{
 "cells": [
  {
   "cell_type": "code",
   "execution_count": null,
   "id": "73e3accd",
   "metadata": {},
   "outputs": [],
   "source": [
    "\n",
    "# Explanation of code 1 & 2 (real time rates display)\n",
    "\n",
    "#This code fetches real-time currency exchange rates using an API and displays the results in a structured format. \n",
    "#It imports the requests library for sending HTTP requests and the pandas library for data manipulation. \n",
    "#An access key from the apilayer API service is used for authentication. \n",
    "#The code defines the API endpoint URL and parameters, including the access key, target currencies (EUR, GBP, CAD, PLN), \n",
    "# base currency (USD), and response format (JSON).\n",
    "# It sends a GET request to the API and checks for a successful response.\n",
    "# If successful, the response is converted from JSON to a dictionary, the USD to EUR exchange rate is extracted, \n",
    "# and the data is organized into a pandas DataFrame for display."
   ]
  },
  {
   "cell_type": "code",
   "execution_count": 23,
   "id": "08e61116",
   "metadata": {},
   "outputs": [
    {
     "name": "stdout",
     "output_type": "stream",
     "text": [
      "  Currency Pair  Exchange Rate\n",
      "0       USD/EUR        0.93121\n"
     ]
    }
   ],
   "source": [
    "# code 1\n",
    "# Function & Technology 1 \n",
    "# currency exchange rate API from website 2\n",
    "\n",
    "import requests\n",
    "import pandas as pd\n",
    "\n",
    "# Define your new access key\n",
    "access_key = 'b2292154bb69a61f8686faf5294c39db'\n",
    "\n",
    "# Define the URL for the API request\n",
    "url = 'http://data.fixer.io/api/latest'\n",
    "\n",
    "# Define the parameters for the API request\n",
    "params = {\n",
    "    'access_key': access_key,\n",
    "    'symbols': 'USD'\n",
    "}\n",
    "\n",
    "# Make the API request\n",
    "response = requests.get(url, params=params)\n",
    "\n",
    "# Check if the request was successful\n",
    "if response.status_code == 200:\n",
    "    data = response.json()\n",
    "    if data['success']:\n",
    "        # Extract the EUR to USD exchange rate\n",
    "        eur_to_usd_rate = data['rates']['USD']\n",
    "        \n",
    "        # Calculate the USD/EUR rate\n",
    "        usd_to_eur_rate = 1 / eur_to_usd_rate\n",
    "        \n",
    "        # Create a DataFrame to display the USD/EUR rate\n",
    "        df = pd.DataFrame([['USD/EUR', usd_to_eur_rate]], columns=['Currency Pair', 'Exchange Rate'])\n",
    "        \n",
    "        # Display the DataFrame\n",
    "        print(df)\n",
    "    else:\n",
    "        print(f\"Error: {data['error']['info']}\")\n",
    "else:\n",
    "    print(f\"Failed to retrieve data: {response.status_code}\")\n",
    "\n",
    "\n",
    "\n"
   ]
  },
  {
   "cell_type": "code",
   "execution_count": 4,
   "id": "319bd068",
   "metadata": {},
   "outputs": [
    {
     "name": "stdout",
     "output_type": "stream",
     "text": [
      "  Currency Pair  Exchange Rate\n",
      "0       USD/EUR       0.931998\n"
     ]
    }
   ],
   "source": [
    "# code 2\n",
    "# Function & Technology 1 \n",
    "# currency exchange rate API from website 1\n",
    "import requests\n",
    "import pandas as pd\n",
    "\n",
    "# Define your access key\n",
    "access_key = '8763cdbfe55bbc20458719f6b086e96d'\n",
    "\n",
    "# Define the URL for the API request\n",
    "url = 'http://apilayer.net/api/live'\n",
    "\n",
    "# Define the parameters for the API request\n",
    "params = {\n",
    "    'access_key': access_key,\n",
    "    'currencies': 'EUR,GBP,CAD,PLN',\n",
    "    'source': 'USD',\n",
    "    'format': 1\n",
    "}\n",
    "\n",
    "# Make the API request\n",
    "response = requests.get(url, params=params)\n",
    "\n",
    "# Check if the request was successful\n",
    "if response.status_code == 200:\n",
    "    data = response.json()\n",
    "    if data['success']:\n",
    "        # Extract the USD to EUR exchange rate\n",
    "        usd_to_eur_rate = data['quotes']['USDEUR']\n",
    "        \n",
    "        # Create a DataFrame to display the USD/EUR rate\n",
    "        df = pd.DataFrame([['USD/EUR', usd_to_eur_rate]], columns=['Currency Pair', 'Exchange Rate'])\n",
    "        \n",
    "        # Display the DataFrame\n",
    "        print(df)\n",
    "    else:\n",
    "        print(f\"Error: {data['error']['info']}\")\n",
    "else:\n",
    "    print(f\"Failed to retrieve data: {response.status_code}\")\n"
   ]
  },
  {
   "cell_type": "code",
   "execution_count": null,
   "id": "73b1d8ee",
   "metadata": {},
   "outputs": [],
   "source": [
    "# Explanation of code 3 & 4(Mortgage and currency exchange rate prediction)\n",
    "# The  code predicts future mortgage rates and EUR/CNY exchange rates using historical economic indicators. \n",
    "#The process involves importing libraries (pandas, ARIMA, sklearn), loading datasets, and converting date columns. \n",
    "# An ARIMA-based forecasting function generates future values for economic indicators, which are organized into DataFrames.\n",
    "\n",
    "# For both predictions, features and target variables are separated, missing values are imputed, and data is split into training and testing sets. \n",
    "# A linear regression model with feature scaling is trained and used to predict future rates. \n",
    "# The results, displayed in DataFrames, offer valuable insights into future mortgage and currency exchange rates \n",
    "# based on comprehensive economic data."
   ]
  },
  {
   "cell_type": "code",
   "execution_count": 30,
   "id": "b168c7ce",
   "metadata": {},
   "outputs": [
    {
     "name": "stdout",
     "output_type": "stream",
     "text": [
      "   Year-Month  Estimated Mortgage Rate\n",
      "0     2024-06                 3.791551\n",
      "1     2024-07                 3.763212\n",
      "2     2024-08                 3.749859\n",
      "3     2024-09                 3.751660\n",
      "4     2024-10                 3.735493\n",
      "5     2024-11                 3.726175\n",
      "6     2024-12                 3.721581\n",
      "7     2025-01                 3.715161\n",
      "8     2025-02                 3.712926\n",
      "9     2025-03                 3.708840\n",
      "10    2025-04                 3.705287\n",
      "11    2025-05                 3.702071\n"
     ]
    }
   ],
   "source": [
    "# code 3\n",
    "# Function & Technology 2\n",
    "# Future mortgage rate prediction\n",
    "\n",
    "import pandas as pd\n",
    "from statsmodels.tsa.arima.model import ARIMA\n",
    "from sklearn.preprocessing import StandardScaler\n",
    "from sklearn.pipeline import make_pipeline\n",
    "from sklearn.linear_model import LinearRegression\n",
    "from sklearn.model_selection import train_test_split\n",
    "from sklearn.impute import SimpleImputer\n",
    "\n",
    "# Load the dataset\n",
    "data = pd.read_excel(\"C:/Users/user/Desktop/Data_mortgage.xlsx\", engine='openpyxl')\n",
    "\n",
    "# Ensure DateTime column is in datetime format\n",
    "data['DateTime'] = pd.to_datetime(data['DateTime'])\n",
    "\n",
    "# Forecasting function\n",
    "def forecast_feature(data, feature_name, order=(5,1,0), steps=12):\n",
    "    series = data[['DateTime', feature_name]].set_index('DateTime')\n",
    "    series = series.asfreq('M')\n",
    "    arima_model = ARIMA(series, order=order)\n",
    "    arima_fit = arima_model.fit()\n",
    "    return arima_fit.forecast(steps=steps)\n",
    "\n",
    "# Forecast all features\n",
    "consumer_confidence_forecast = forecast_feature(data, 'Consumer_Confidence')\n",
    "cpi_forecast = forecast_feature(data, 'CPI')\n",
    "housing_index_forecast = forecast_feature(data, 'Housing_index')\n",
    "inflation_rate_forecast = forecast_feature(data, 'inflation_rate')\n",
    "unemplyment_forecast = forecast_feature(data, 'unemplyment')\n",
    "gdpg_forecast = forecast_feature(data, 'GDPG')\n",
    "gytm_forecast = forecast_feature(data, 'GYTM')\n",
    "stockindex_forecast = forecast_feature(data, 'STOCKINDEX')\n",
    "lendingrate_forecast = forecast_feature(data, 'LENDINGRATE')\n",
    "marginal_lending_facility_forecast = forecast_feature(data, 'Marginal_lending_facility')\n",
    "main_refinancing_operations_forecast = forecast_feature(data, 'Main_refinancing_operations')\n",
    "deposit_facility_forecast = forecast_feature(data, 'Deposit_facility')\n",
    "\n",
    "# Create DataFrame with all forecasted features\n",
    "forecasted_features = pd.DataFrame({\n",
    "    'Consumer_Confidence': consumer_confidence_forecast.values,\n",
    "    'CPI': cpi_forecast.values,\n",
    "    'Housing_index': housing_index_forecast.values,\n",
    "    'inflation_rate': inflation_rate_forecast.values,\n",
    "    'unemplyment': unemplyment_forecast.values,\n",
    "    'GDPG': gdpg_forecast.values,\n",
    "    'GYTM': gytm_forecast.values,\n",
    "    'STOCKINDEX': stockindex_forecast.values,\n",
    "    'LENDINGRATE': lendingrate_forecast.values,\n",
    "    'Marginal_lending_facility': marginal_lending_facility_forecast.values,\n",
    "    'Main_refinancing_operations': main_refinancing_operations_forecast.values,\n",
    "    'Deposit_facility': deposit_facility_forecast.values\n",
    "}, index=cpi_forecast.index)\n",
    "\n",
    "# Ensure the feature order is consistent\n",
    "feature_columns = [\n",
    "    'Consumer_Confidence', 'CPI', 'Housing_index', 'inflation_rate', \n",
    "    'unemplyment', 'GDPG', 'GYTM', 'STOCKINDEX', 'LENDINGRATE', \n",
    "    'Marginal_lending_facility', 'Main_refinancing_operations', 'Deposit_facility'\n",
    "]\n",
    "\n",
    "forecasted_features = forecasted_features[feature_columns]\n",
    "\n",
    "# Split features and target variable\n",
    "X = data[feature_columns]\n",
    "y = data['Mortgage_rate']\n",
    "\n",
    "# Handle missing values by imputing with the mean\n",
    "imputer = SimpleImputer(strategy='mean')\n",
    "X = imputer.fit_transform(X)\n",
    "forecasted_features_imputed = imputer.transform(forecasted_features)\n",
    "\n",
    "# Split training and test datasets\n",
    "X_train, X_test, y_train, y_test = train_test_split(X, y, test_size=0.2, random_state=42)\n",
    "\n",
    "# Train the model with scaling\n",
    "linear_regression_pipeline = make_pipeline(StandardScaler(), LinearRegression())\n",
    "linear_regression_pipeline.fit(X_train, y_train)\n",
    "\n",
    "# Scale forecasted features\n",
    "forecasted_features_scaled = linear_regression_pipeline.named_steps['standardscaler'].transform(forecasted_features_imputed)\n",
    "\n",
    "# Predict Mortgage Rate\n",
    "future_mortgage_rate_predictions = linear_regression_pipeline.named_steps['linearregression'].predict(forecasted_features_scaled)\n",
    "\n",
    "# Create a DataFrame to display the results\n",
    "results = pd.DataFrame({\n",
    "    'Year-Month': forecasted_features.index.strftime('%Y-%m'),\n",
    "    'Estimated Mortgage Rate': future_mortgage_rate_predictions\n",
    "})\n",
    "\n",
    "# Output the results\n",
    "print(results)\n"
   ]
  },
  {
   "cell_type": "code",
   "execution_count": 1,
   "id": "065e9a38",
   "metadata": {},
   "outputs": [
    {
     "name": "stdout",
     "output_type": "stream",
     "text": [
      "   Year-Month  Estimated EURCNY\n",
      "0     2024-06          7.852322\n",
      "1     2024-07          7.867048\n",
      "2     2024-08          7.869139\n",
      "3     2024-09          7.903796\n",
      "4     2024-10          7.902884\n",
      "5     2024-11          7.915911\n",
      "6     2024-12          7.924863\n",
      "7     2025-01          7.933650\n",
      "8     2025-02          7.946828\n",
      "9     2025-03          7.954492\n",
      "10    2025-04          7.963170\n",
      "11    2025-05          7.970341\n"
     ]
    }
   ],
   "source": [
    "# code 4\n",
    "# Function & Technology 2\n",
    "# Future currency exchange rate prediction \n",
    "\n",
    "import pandas as pd\n",
    "from statsmodels.tsa.arima.model import ARIMA\n",
    "from sklearn.preprocessing import StandardScaler\n",
    "from sklearn.pipeline import make_pipeline\n",
    "from sklearn.linear_model import LinearRegression\n",
    "from sklearn.model_selection import train_test_split\n",
    "from sklearn.impute import SimpleImputer\n",
    "\n",
    "# Load the dataset\n",
    "data = pd.read_excel(\"C:/Users/user/Desktop/Data_FX.xlsx\", engine='openpyxl')\n",
    "\n",
    "# Ensure DateTime column is in datetime format\n",
    "data['DateTime'] = pd.to_datetime(data['DateTime'])\n",
    "\n",
    "# Forecasting function\n",
    "def forecast_feature(data, feature_name, order=(5,1,0), steps=12):\n",
    "    series = data[['DateTime', feature_name]].set_index('DateTime')\n",
    "    series = series.asfreq('M')\n",
    "    arima_model = ARIMA(series, order=order)\n",
    "    arima_fit = arima_model.fit()\n",
    "    return arima_fit.forecast(steps=steps)\n",
    "\n",
    "# Forecast all features\n",
    "cpi_forecast = forecast_feature(data, 'CPI')\n",
    "unemplyment_forecast = forecast_feature(data, 'unemplyment')\n",
    "balance_of_trade_forecast = forecast_feature(data, 'Balance_of_Trade')\n",
    "inflation_rate_forecast = forecast_feature(data, 'inflation_rate')\n",
    "consumer_confidence_forecast = forecast_feature(data, 'Consumer_Confidence')\n",
    "housing_index_forecast = forecast_feature(data, 'Housing_index')\n",
    "capital_flows_forecast = forecast_feature(data, 'Capital_Flows')\n",
    "fdi_forecast = forecast_feature(data, 'FDI')\n",
    "gdpg_forecast = forecast_feature(data, 'GDPG')\n",
    "gytm_forecast = forecast_feature(data, 'GYTM')\n",
    "stockindex_forecast = forecast_feature(data, 'STOCKINDEX')\n",
    "eurusd_forecast = forecast_feature(data, 'EURUSD')\n",
    "lendingrate_forecast = forecast_feature(data, 'LENDINGRATE')\n",
    "marginal_lending_facility_forecast = forecast_feature(data, 'Marginal_lending1_facility')\n",
    "deposit_facility_forecast = forecast_feature(data, 'Deposit_facility')\n",
    "foreign_exchange_reserves_forecast = forecast_feature(data, 'Foreign_Exchange_Reserves')\n",
    "\n",
    "# Create DataFrame with all forecasted features\n",
    "forecasted_features = pd.DataFrame({\n",
    "    'CPI': cpi_forecast.values,\n",
    "    'unemplyment': unemplyment_forecast.values,\n",
    "    'Balance_of_Trade': balance_of_trade_forecast.values,\n",
    "    'inflation_rate': inflation_rate_forecast.values,\n",
    "    'Consumer_Confidence': consumer_confidence_forecast.values,\n",
    "    'Housing_index': housing_index_forecast.values,\n",
    "    'Capital_Flows': capital_flows_forecast.values,\n",
    "    'FDI': fdi_forecast.values,\n",
    "    'GDPG': gdpg_forecast.values,\n",
    "    'GYTM': gytm_forecast.values,\n",
    "    'STOCKINDEX': stockindex_forecast.values,\n",
    "    'EURUSD': eurusd_forecast.values,\n",
    "    'LENDINGRATE': lendingrate_forecast.values,\n",
    "    'Marginal_lending1_facility': marginal_lending_facility_forecast.values,\n",
    "    'Deposit_facility': deposit_facility_forecast.values,\n",
    "    'Foreign_Exchange_Reserves': foreign_exchange_reserves_forecast.values\n",
    "}, index=cpi_forecast.index)\n",
    "\n",
    "# Ensure the feature order is consistent\n",
    "feature_columns = [\n",
    "    'Balance_of_Trade', 'Consumer_Confidence', 'CPI', 'Housing_index',\n",
    "    'inflation_rate', 'unemplyment', 'Capital_Flows', 'FDI', 'GDPG', 'GYTM',\n",
    "    'STOCKINDEX', 'EURUSD', 'LENDINGRATE', 'Marginal_lending1_facility',\n",
    "    'Deposit_facility', 'Foreign_Exchange_Reserves'\n",
    "]\n",
    "\n",
    "forecasted_features = forecasted_features[feature_columns]\n",
    "\n",
    "# Split features and target variable\n",
    "X = data[feature_columns]\n",
    "y = data['EURCNY']\n",
    "\n",
    "# Handle missing values by imputing with the mean\n",
    "imputer = SimpleImputer(strategy='mean')\n",
    "X = imputer.fit_transform(X)\n",
    "forecasted_features_imputed = imputer.transform(forecasted_features)\n",
    "\n",
    "# Split training and test datasets\n",
    "X_train, X_test, y_train, y_test = train_test_split(X, y, test_size=0.2, random_state=42)\n",
    "\n",
    "# Train the model with scaling\n",
    "linear_regression_pipeline = make_pipeline(StandardScaler(), LinearRegression())\n",
    "linear_regression_pipeline.fit(X_train, y_train)\n",
    "\n",
    "# Scale forecasted features\n",
    "forecasted_features_scaled = linear_regression_pipeline.named_steps['standardscaler'].transform(forecasted_features_imputed)\n",
    "\n",
    "# Predict EURCNY\n",
    "future_eurcny_predictions = linear_regression_pipeline.named_steps['linearregression'].predict(forecasted_features_scaled)\n",
    "\n",
    "# Create a DataFrame to display the results\n",
    "results = pd.DataFrame({\n",
    "    'Year-Month': forecasted_features.index.strftime('%Y-%m'),\n",
    "    'Estimated EURCNY': future_eurcny_predictions\n",
    "})\n",
    "\n",
    "# Output the results\n",
    "print(results)"
   ]
  },
  {
   "cell_type": "code",
   "execution_count": 2,
   "id": "ac5a0525",
   "metadata": {},
   "outputs": [
    {
     "name": "stdout",
     "output_type": "stream",
     "text": [
      "Requirement already satisfied: ipywidgets in c:\\users\\user\\anaconda3\\lib\\site-packages (8.0.4)\n",
      "Requirement already satisfied: ipykernel>=4.5.1 in c:\\users\\user\\anaconda3\\lib\\site-packages (from ipywidgets) (6.25.0)\n",
      "Requirement already satisfied: ipython>=6.1.0 in c:\\users\\user\\anaconda3\\lib\\site-packages (from ipywidgets) (8.15.0)\n",
      "Requirement already satisfied: traitlets>=4.3.1 in c:\\users\\user\\anaconda3\\lib\\site-packages (from ipywidgets) (5.7.1)\n",
      "Requirement already satisfied: widgetsnbextension~=4.0 in c:\\users\\user\\anaconda3\\lib\\site-packages (from ipywidgets) (4.0.5)\n",
      "Requirement already satisfied: jupyterlab-widgets~=3.0 in c:\\users\\user\\anaconda3\\lib\\site-packages (from ipywidgets) (3.0.5)\n",
      "Requirement already satisfied: comm>=0.1.1 in c:\\users\\user\\anaconda3\\lib\\site-packages (from ipykernel>=4.5.1->ipywidgets) (0.1.2)\n",
      "Requirement already satisfied: debugpy>=1.6.5 in c:\\users\\user\\anaconda3\\lib\\site-packages (from ipykernel>=4.5.1->ipywidgets) (1.6.7)\n",
      "Requirement already satisfied: jupyter-client>=6.1.12 in c:\\users\\user\\anaconda3\\lib\\site-packages (from ipykernel>=4.5.1->ipywidgets) (7.4.9)\n",
      "Requirement already satisfied: jupyter-core!=5.0.*,>=4.12 in c:\\users\\user\\anaconda3\\lib\\site-packages (from ipykernel>=4.5.1->ipywidgets) (5.3.0)\n",
      "Requirement already satisfied: matplotlib-inline>=0.1 in c:\\users\\user\\anaconda3\\lib\\site-packages (from ipykernel>=4.5.1->ipywidgets) (0.1.6)\n",
      "Requirement already satisfied: nest-asyncio in c:\\users\\user\\anaconda3\\lib\\site-packages (from ipykernel>=4.5.1->ipywidgets) (1.5.6)\n",
      "Requirement already satisfied: packaging in c:\\users\\user\\anaconda3\\lib\\site-packages (from ipykernel>=4.5.1->ipywidgets) (23.1)\n",
      "Requirement already satisfied: psutil in c:\\users\\user\\anaconda3\\lib\\site-packages (from ipykernel>=4.5.1->ipywidgets) (5.9.0)\n",
      "Requirement already satisfied: pyzmq>=20 in c:\\users\\user\\anaconda3\\lib\\site-packages (from ipykernel>=4.5.1->ipywidgets) (23.2.0)\n",
      "Requirement already satisfied: tornado>=6.1 in c:\\users\\user\\anaconda3\\lib\\site-packages (from ipykernel>=4.5.1->ipywidgets) (6.3.2)\n",
      "Requirement already satisfied: backcall in c:\\users\\user\\anaconda3\\lib\\site-packages (from ipython>=6.1.0->ipywidgets) (0.2.0)\n",
      "Requirement already satisfied: decorator in c:\\users\\user\\anaconda3\\lib\\site-packages (from ipython>=6.1.0->ipywidgets) (5.1.1)\n",
      "Requirement already satisfied: jedi>=0.16 in c:\\users\\user\\anaconda3\\lib\\site-packages (from ipython>=6.1.0->ipywidgets) (0.18.1)\n",
      "Requirement already satisfied: pickleshare in c:\\users\\user\\anaconda3\\lib\\site-packages (from ipython>=6.1.0->ipywidgets) (0.7.5)\n",
      "Requirement already satisfied: prompt-toolkit!=3.0.37,<3.1.0,>=3.0.30 in c:\\users\\user\\anaconda3\\lib\\site-packages (from ipython>=6.1.0->ipywidgets) (3.0.36)\n",
      "Requirement already satisfied: pygments>=2.4.0 in c:\\users\\user\\anaconda3\\lib\\site-packages (from ipython>=6.1.0->ipywidgets) (2.15.1)\n",
      "Requirement already satisfied: stack-data in c:\\users\\user\\anaconda3\\lib\\site-packages (from ipython>=6.1.0->ipywidgets) (0.2.0)\n",
      "Requirement already satisfied: colorama in c:\\users\\user\\anaconda3\\lib\\site-packages (from ipython>=6.1.0->ipywidgets) (0.4.6)\n",
      "Requirement already satisfied: parso<0.9.0,>=0.8.0 in c:\\users\\user\\anaconda3\\lib\\site-packages (from jedi>=0.16->ipython>=6.1.0->ipywidgets) (0.8.3)\n",
      "Requirement already satisfied: entrypoints in c:\\users\\user\\anaconda3\\lib\\site-packages (from jupyter-client>=6.1.12->ipykernel>=4.5.1->ipywidgets) (0.4)\n",
      "Requirement already satisfied: python-dateutil>=2.8.2 in c:\\users\\user\\anaconda3\\lib\\site-packages (from jupyter-client>=6.1.12->ipykernel>=4.5.1->ipywidgets) (2.8.2)\n",
      "Requirement already satisfied: platformdirs>=2.5 in c:\\users\\user\\anaconda3\\lib\\site-packages (from jupyter-core!=5.0.*,>=4.12->ipykernel>=4.5.1->ipywidgets) (3.10.0)\n",
      "Requirement already satisfied: pywin32>=300 in c:\\users\\user\\anaconda3\\lib\\site-packages (from jupyter-core!=5.0.*,>=4.12->ipykernel>=4.5.1->ipywidgets) (305.1)\n",
      "Requirement already satisfied: wcwidth in c:\\users\\user\\anaconda3\\lib\\site-packages (from prompt-toolkit!=3.0.37,<3.1.0,>=3.0.30->ipython>=6.1.0->ipywidgets) (0.2.5)\n",
      "Requirement already satisfied: executing in c:\\users\\user\\anaconda3\\lib\\site-packages (from stack-data->ipython>=6.1.0->ipywidgets) (0.8.3)\n",
      "Requirement already satisfied: asttokens in c:\\users\\user\\anaconda3\\lib\\site-packages (from stack-data->ipython>=6.1.0->ipywidgets) (2.0.5)\n",
      "Requirement already satisfied: pure-eval in c:\\users\\user\\anaconda3\\lib\\site-packages (from stack-data->ipython>=6.1.0->ipywidgets) (0.2.2)\n",
      "Requirement already satisfied: six>=1.5 in c:\\users\\user\\anaconda3\\lib\\site-packages (from python-dateutil>=2.8.2->jupyter-client>=6.1.12->ipykernel>=4.5.1->ipywidgets) (1.16.0)\n",
      "Note: you may need to restart the kernel to use updated packages.\n"
     ]
    }
   ],
   "source": [
    "pip install ipywidgets"
   ]
  },
  {
   "cell_type": "code",
   "execution_count": null,
   "id": "bab2dc40",
   "metadata": {},
   "outputs": [],
   "source": [
    "# explanation of code 5 (mortgage calculator)\n",
    "# This code implements an interactive mortgage calculator using ipywidgets and IPython.display. \n",
    "# It defines a function, calculate_mortgage, to compute the maximum mortgage amount, gross monthly expenses, \n",
    "# and total own funds based on user inputs such as annual income, interest rate, purchase price, energy label, and mortgage type. \n",
    "# Various interactive widgets are created for these inputs, along with a button to trigger the calculation. \n",
    "# When the button is clicked, the function calculates the mortgage details and displays the results in HTML format \n",
    "# within the notebook interface, providing users with an easy-to-use tool for mortgage planning."
   ]
  },
  {
   "cell_type": "code",
   "execution_count": 3,
   "id": "3bf19a54",
   "metadata": {
    "scrolled": true
   },
   "outputs": [
    {
     "data": {
      "application/vnd.jupyter.widget-view+json": {
       "model_id": "6e8ed2b24c8d4c1aade76e00bff317c4",
       "version_major": 2,
       "version_minor": 0
      },
      "text/plain": [
       "FloatText(value=60000.0, description='Annual Income (€):')"
      ]
     },
     "metadata": {},
     "output_type": "display_data"
    },
    {
     "data": {
      "application/vnd.jupyter.widget-view+json": {
       "model_id": "99d5515caa9043c8afd13bc1931debef",
       "version_major": 2,
       "version_minor": 0
      },
      "text/plain": [
       "FloatText(value=4.0, description='Interest Rate (%):')"
      ]
     },
     "metadata": {},
     "output_type": "display_data"
    },
    {
     "data": {
      "application/vnd.jupyter.widget-view+json": {
       "model_id": "1c048e97b750418ea0b9a113cb3e3d46",
       "version_major": 2,
       "version_minor": 0
      },
      "text/plain": [
       "FloatText(value=300000.0, description='Purchase Price (€):')"
      ]
     },
     "metadata": {},
     "output_type": "display_data"
    },
    {
     "data": {
      "application/vnd.jupyter.widget-view+json": {
       "model_id": "0f48fc670f7d45ec980c043b6a3e380a",
       "version_major": 2,
       "version_minor": 0
      },
      "text/plain": [
       "Dropdown(description='Energy Label:', index=1, options=('A', 'B', 'C', 'D', 'E', 'F', 'G'), value='B')"
      ]
     },
     "metadata": {},
     "output_type": "display_data"
    },
    {
     "data": {
      "application/vnd.jupyter.widget-view+json": {
       "model_id": "f955fea995d14f77bce7d641e45fb2a7",
       "version_major": 2,
       "version_minor": 0
      },
      "text/plain": [
       "Dropdown(description='Mortgage Type:', options=('Annuity', 'Linear'), value='Annuity')"
      ]
     },
     "metadata": {},
     "output_type": "display_data"
    },
    {
     "data": {
      "application/vnd.jupyter.widget-view+json": {
       "model_id": "9854f264e0ff4d48b535cc7dc65b8314",
       "version_major": 2,
       "version_minor": 0
      },
      "text/plain": [
       "Button(description='Calculate Mortgage', style=ButtonStyle())"
      ]
     },
     "metadata": {},
     "output_type": "display_data"
    },
    {
     "data": {
      "application/vnd.jupyter.widget-view+json": {
       "model_id": "0beff79809cb4b0eaacfb66070f45e7e",
       "version_major": 2,
       "version_minor": 0
      },
      "text/plain": [
       "Output()"
      ]
     },
     "metadata": {},
     "output_type": "display_data"
    }
   ],
   "source": [
    "# code 5\n",
    "# Function & Technology 3\n",
    "# Mortgage calculator \n",
    "\n",
    "import ipywidgets as widgets\n",
    "from IPython.display import display, HTML\n",
    "\n",
    "# Function to calculate the mortgage loan amount\n",
    "def calculate_mortgage(annual_income, interest_rate, purchase_price, energy_label, mortgage_type):\n",
    "    energy_label_multiplier = {\n",
    "        'A': 5.0,\n",
    "        'B': 4.9,\n",
    "        'C': 4.8,\n",
    "        'D': 4.7,\n",
    "        'E': 4.6,\n",
    "        'F': 4.5,\n",
    "        'G': 4.4\n",
    "    }\n",
    "    \n",
    "    multiplier = energy_label_multiplier.get(energy_label, 4.5)\n",
    "    max_mortgage = annual_income * multiplier\n",
    "    \n",
    "    if mortgage_type == 'Annuity':\n",
    "        monthly_interest_rate = interest_rate / 100 / 12\n",
    "        number_of_payments = 30 * 12\n",
    "        gross_monthly_expenses = (max_mortgage * monthly_interest_rate) / (1 - (1 + monthly_interest_rate) ** -number_of_payments)\n",
    "    else:  # Linear mortgage\n",
    "        monthly_principal_repayment = max_mortgage / (30 * 12)\n",
    "        initial_interest_payment = max_mortgage * (interest_rate / 100 / 12)\n",
    "        initial_monthly_payment = monthly_principal_repayment + initial_interest_payment\n",
    "        gross_monthly_expenses = initial_monthly_payment\n",
    "    \n",
    "    own_funds = purchase_price - max_mortgage\n",
    "    min_own_funds = own_funds\n",
    "    taxes = 6000\n",
    "    broker_fee = 4500\n",
    "    appraisal_fee = 650\n",
    "    mortgage_advice_fee = 1995\n",
    "    notary_fee = 1500\n",
    "    total_own_funds = min_own_funds + taxes + broker_fee + appraisal_fee + mortgage_advice_fee + notary_fee\n",
    "    \n",
    "    return max_mortgage, gross_monthly_expenses, total_own_funds, min_own_funds, taxes, broker_fee, appraisal_fee, mortgage_advice_fee, notary_fee\n",
    "\n",
    "# Create input widgets\n",
    "annual_income_input = widgets.FloatText(value=60000, description='Annual Income (€):')\n",
    "interest_rate_input = widgets.FloatText(value=4, description='Interest Rate (%):')\n",
    "purchase_price_input = widgets.FloatText(value=300000, description='Purchase Price (€):')\n",
    "energy_label_input = widgets.Dropdown(options=['A', 'B', 'C', 'D', 'E', 'F', 'G'], value='B', description='Energy Label:')\n",
    "mortgage_type_input = widgets.Dropdown(options=['Annuity', 'Linear'], value='Annuity', description='Mortgage Type:')\n",
    "calculate_button = widgets.Button(description='Calculate Mortgage')\n",
    "output = widgets.Output()\n",
    "\n",
    "# Define the button click event\n",
    "def on_calculate_button_clicked(b):\n",
    "    with output:\n",
    "        output.clear_output()\n",
    "        annual_income = annual_income_input.value\n",
    "        interest_rate = interest_rate_input.value\n",
    "        purchase_price = purchase_price_input.value\n",
    "        energy_label = energy_label_input.value\n",
    "        mortgage_type = mortgage_type_input.value\n",
    "        results = calculate_mortgage(annual_income, interest_rate, purchase_price, energy_label, mortgage_type)\n",
    "        max_mortgage, gross_monthly_expenses, total_own_funds, min_own_funds, taxes, broker_fee, appraisal_fee, mortgage_advice_fee, notary_fee = results\n",
    "        display(HTML(f\"\"\"\n",
    "        <h2>Mortgage Calculation Results</h2>\n",
    "        <p><strong>Maximum Mortgage Amount:</strong> €{max_mortgage:,.2f}</p>\n",
    "        <p><strong>Gross Monthly Expenses:</strong> €{gross_monthly_expenses:,.2f}</p>\n",
    "        <p><strong>Total Own Funds:</strong> €{total_own_funds:,.2f}</p>\n",
    "        <ul>\n",
    "            <li>Minimum Own Funds: €{min_own_funds:,.2f}</li>\n",
    "            <li>Taxes: €{taxes:,.2f}</li>\n",
    "            <li>Broker Fee: €{broker_fee:,.2f}</li>\n",
    "            <li>Appraisal Fee: €{appraisal_fee:,.2f}</li>\n",
    "            <li>Mortgage Advice Fee: €{mortgage_advice_fee:,.2f}</li>\n",
    "            <li>Notary Fee: €{notary_fee:,.2f}</li>\n",
    "        </ul>\n",
    "        \"\"\"))\n",
    "\n",
    "# Bind the button click event\n",
    "calculate_button.on_click(on_calculate_button_clicked)\n",
    "\n",
    "# Display the widgets\n",
    "display(annual_income_input, interest_rate_input, purchase_price_input, energy_label_input, mortgage_type_input, calculate_button, output)\n"
   ]
  },
  {
   "cell_type": "code",
   "execution_count": null,
   "id": "1a540f99",
   "metadata": {},
   "outputs": [],
   "source": []
  }
 ],
 "metadata": {
  "kernelspec": {
   "display_name": "Python 3 (ipykernel)",
   "language": "python",
   "name": "python3"
  },
  "language_info": {
   "codemirror_mode": {
    "name": "ipython",
    "version": 3
   },
   "file_extension": ".py",
   "mimetype": "text/x-python",
   "name": "python",
   "nbconvert_exporter": "python",
   "pygments_lexer": "ipython3",
   "version": "3.11.5"
  }
 },
 "nbformat": 4,
 "nbformat_minor": 5
}
